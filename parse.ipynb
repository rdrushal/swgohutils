{
 "cells": [
  {
   "cell_type": "code",
   "execution_count": 1,
   "metadata": {},
   "outputs": [],
   "source": [
    "from bs4 import BeautifulSoup\n",
    "import csv"
   ]
  },
  {
   "cell_type": "code",
   "execution_count": 2,
   "metadata": {},
   "outputs": [],
   "source": [
    "file = open(\"/Users/rick/code/swgoh/SpectreCөmpanySquadTemplatesSWGOH.GG.htm\", \"r\")\n",
    "soup = BeautifulSoup(file, 'html.parser')\n",
    "\n",
    "outfile = \"jtr_p1.csv\"\n"
   ]
  },
  {
   "cell_type": "code",
   "execution_count": 136,
   "metadata": {},
   "outputs": [
    {
     "data": {
      "text/plain": [
       "['Rey (Jedi Training)',\n",
       " 'R2-D2',\n",
       " 'BB-8',\n",
       " 'Resistance Trooper',\n",
       " 'Rey (Scavenger)']"
      ]
     },
     "execution_count": 136,
     "metadata": {},
     "output_type": "execute_result"
    }
   ],
   "source": [
    "# Extract Squad Character Names\n",
    "characters = [x[\"data-name\"] for x in soup.thead.find_all('th', class_='text-center squad-character')]\n",
    "characters"
   ]
  },
  {
   "cell_type": "code",
   "execution_count": 137,
   "metadata": {},
   "outputs": [
    {
     "data": {
      "text/plain": [
       "27"
      ]
     },
     "execution_count": 137,
     "metadata": {},
     "output_type": "execute_result"
    }
   ],
   "source": [
    "# Construct header\n",
    "header = []\n",
    "header.append(\"Player\")\n",
    "header.append(\"Team Power\")\n",
    "for character in characters:\n",
    "    header.append(character + \" Star Level\")\n",
    "    header.append(character + \" Gear Level\")\n",
    "    header.append(character + \" Speed\")\n",
    "    header.append(character + \" Zeta Count\")\n",
    "    header.append(character + \" Zeta List\")                \n",
    "\n",
    "\n",
    "len(header)\n"
   ]
  },
  {
   "cell_type": "code",
   "execution_count": 147,
   "metadata": {},
   "outputs": [],
   "source": [
    "data = []\n",
    "split = []\n",
    "val = \"\"\n",
    "\n",
    "data.append(header)\n",
    "\n",
    "table = soup.tbody.find_all('tr')\n",
    "\n",
    "for row in table:\n",
    "    out_row = []\n",
    "    for cell in row.find_all('td'):\n",
    "        \n",
    "        #GET Character Zetas\n",
    "        zetas_list = [x[\"title\"] for x in cell.find_all('img')]\n",
    "        zetas = ':'.join(zetas_list)\n",
    "\n",
    "        #Get character stats\n",
    "        val = cell.text.strip()\n",
    "\n",
    "        if val:\n",
    "            if val.find(\"* G\") == 1:\n",
    "                for entity in val.split():\n",
    "                    out_row.append(entity.strip('()*G'))\n",
    "                \n",
    "                # Append Zeta Count to character stats\n",
    "                out_row.append(len(zetas_list))\n",
    "\n",
    "                # Append Zeta name to character stats\n",
    "                out_row.append(zetas)\n",
    "                \n",
    "            else:\n",
    "                out_row.append(val)\n",
    "        else:\n",
    "            #Filler if player does not have toon\n",
    "            out_row.append('')\n",
    "            out_row.append('')\n",
    "            out_row.append('')\n",
    "            out_row.append('')\n",
    "            out_row.append('')        \n",
    "        \n",
    "    data.append(out_row)\n",
    "    \n"
   ]
  },
  {
   "cell_type": "code",
   "execution_count": 159,
   "metadata": {},
   "outputs": [],
   "source": [
    "data = []\n",
    "split = []\n",
    "val = \"\"\n",
    "\n",
    "data.append(header)\n",
    "\n",
    "table = soup.tbody.find_all('tr')\n",
    "\n",
    "for row in table:\n",
    "    out_row = []\n",
    "    for cell in row.find_all('td'):\n",
    "        \n",
    "        #GET Character Zetas\n",
    "        zetas_list = [x[\"title\"] for x in cell.find_all('img')]\n",
    "        zetas = ':'.join(zetas_list)\n",
    "\n",
    "        #Get character stats\n",
    "        val = cell.text.strip()\n",
    "\n",
    "        if val:\n",
    "            if val.find(\"* G\") == 1:\n",
    "                for entity in val.split():\n",
    "                    out_row.append(entity.strip('()*G'))\n",
    "                \n",
    "                # Append Zeta Count to character stats\n",
    "                out_row.append(len(zetas_list))\n",
    "\n",
    "                # Append Zeta name to character stats\n",
    "                out_row.append(zetas)\n",
    "                \n",
    "            else:\n",
    "                out_row.append(val)\n",
    "        else:\n",
    "            #Filler if player does not have toon\n",
    "            out_row.append('')\n",
    "            out_row.append('')\n",
    "            out_row.append('')\n",
    "            out_row.append('')\n",
    "            out_row.append('')        \n",
    "        \n",
    "    data.append(out_row)\n",
    "\n",
    "with open(outfile, 'w') as the_file:\n",
    "    writer = csv.writer(the_file, lineterminator='\\n')\n",
    "    writer.writerows(data)"
   ]
  },
  {
   "cell_type": "code",
   "execution_count": 154,
   "metadata": {},
   "outputs": [],
   "source": [
    "with open(outfile, 'w') as the_file:\n",
    "    writer = csv.writer(the_file, lineterminator='\\n')\n",
    "    writer.writerows(data)"
   ]
  },
  {
   "cell_type": "code",
   "execution_count": 160,
   "metadata": {},
   "outputs": [
    {
     "name": "stdout",
     "output_type": "stream",
     "text": [
      "Player,Team Power,Rey (Jedi Training) Star Level,Rey (Jedi Training) Gear Level,Rey (Jedi Training) Speed,Rey (Jedi Training) Zeta Count,Rey (Jedi Training) Zeta List,R2-D2 Star Level,R2-D2 Gear Level,R2-D2 Speed,R2-D2 Zeta Count,R2-D2 Zeta List,BB-8 Star Level,BB-8 Gear Level,BB-8 Speed,BB-8 Zeta Count,BB-8 Zeta List,Resistance Trooper Star Level,Resistance Trooper Gear Level,Resistance Trooper Speed,Resistance Trooper Zeta Count,Resistance Trooper Zeta List,Rey (Scavenger) Star Level,Rey (Scavenger) Gear Level,Rey (Scavenger) Speed,Rey (Scavenger) Zeta Count,Rey (Scavenger) Zeta List\r\n",
      "Falen Lacer,94635,7,12,237,1,Inspirational Presence,7,12,242,2,Combat Analysis:Number Crunch,7,12,265,1,Roll with the Punches,7,12,191,0,,7,11,194,0,\r\n",
      "Jai bendu,64336,,,,,,7,12,190,1,Number Crunch,7,11,181,0,,7,11,172,0,,7,8,173,0,\r\n",
      "Kaden Ryken,91215,7,11,196,1,Inspirational Presence,7,12,247,2,Combat Analysis:Number Crunch,7,11,219,0,,7,12,179,0,,7,11,185,0,\r\n",
      "LordGreen,95997,7,12,186,1,Inspirational Presence,7,12,206,2,Combat Analysis:Number Crunch,7,12,237,1,Roll with the Punches,7,12,173,0,,7,12,203,0,\r\n",
      "Savage Will,71187,,,,,,7,12,217,2,Combat Analysis:Number Crunch,7,12,243,0,,7,11,201,0,,7,11,212,0,\r\n",
      "HN03xPU N2H4,95661,7,12,208,2,Inspirational Presence:Insight,7,12,238,1,Number Crunch,7,12,229,1,Roll with the Punches,7,11,144,0,,7,11,199,0,\r\n",
      "Supaman55,99489,7,12,181,2,Inspirational Presence:Insight,7,12,187,2,Combat Analysis:Number Crunch,7,12,212,1,Roll with the Punches,7,12,146,0,,7,12,169,0,\r\n",
      "DÜKE,70581,,,,,,7,12,244,2,Combat Analysis:Number Crunch,7,11,275,0,,7,12,190,0,,7,11,213,0,\r\n",
      "Wolfsbane1911,83988,7,11,193,1,Inspirational Presence,7,11,185,2,Combat Analysis:Number Crunch,7,10,191,1,Roll with the Punches,7,7,118,0,,7,9,198,0,\r\n"
     ]
    }
   ],
   "source": [
    "    !head jtr_p1.csv"
   ]
  },
  {
   "cell_type": "code",
   "execution_count": 156,
   "metadata": {},
   "outputs": [
    {
     "name": "stdout",
     "output_type": "stream",
     "text": [
      "Player,Team Power,Rey (Jedi Training) Star Level,Rey (Jedi Training) Gear Level,Rey (Jedi Training) Speed,Rey (Jedi Training) Zeta Count,Rey (Jedi Training) Zeta List,R2-D2 Star Level,R2-D2 Gear Level,R2-D2 Speed,R2-D2 Zeta Count,R2-D2 Zeta List,BB-8 Star Level,BB-8 Gear Level,BB-8 Speed,BB-8 Zeta Count,BB-8 Zeta List,Resistance Trooper Star Level,Resistance Trooper Gear Level,Resistance Trooper Speed,Resistance Trooper Zeta Count,Resistance Trooper Zeta List,Rey (Scavenger) Star Level,Rey (Scavenger) Gear Level,Rey (Scavenger) Speed,Rey (Scavenger) Zeta Count,Rey (Scavenger) Zeta List\r\n",
      "Falen Lacer,94635,7,12,237,1,Inspirational Presence,7,12,242,2,Combat Analysis:Number Crunch,7,12,265,1,Roll with the Punches,7,12,191,0,,7,11,194,0,\r\n",
      "Jai bendu,64336,\",\",\",\",\",\",\",\",\",\",7,12,190,1,Number Crunch,7,11,181,0,,7,11,172,0,,7,8,173,0,\r\n",
      "LordGreen,95997,7,12,186,1,Inspirational Presence,7,12,206,2,Combat Analysis:Number Crunch,7,12,237,1,Roll with the Punches,7,12,173,0,,7,12,203,0,\r\n",
      "Savage Will,71187,\",\",\",\",\",\",\",\",\",\",7,12,217,2,Combat Analysis:Number Crunch,7,12,243,0,,7,11,201,0,,7,11,212,0,\r\n",
      "Supaman55,99489,7,12,181,2,Inspirational Presence:Insight,7,12,187,2,Combat Analysis:Number Crunch,7,12,212,1,Roll with the Punches,7,12,146,0,,7,12,169,0,\r\n",
      "DÜKE,70581,\",\",\",\",\",\",\",\",\",\",7,12,244,2,Combat Analysis:Number Crunch,7,11,275,0,,7,12,190,0,,7,11,213,0,\r\n",
      "Wolfsbane1911,83988,7,11,193,1,Inspirational Presence,7,11,185,2,Combat Analysis:Number Crunch,7,10,191,1,Roll with the Punches,7,7,118,0,,7,9,198,0,\r\n",
      "Spiff,95927,7,12,165,2,Inspirational Presence:Insight,7,12,183,2,Combat Analysis:Number Crunch,7,12,227,1,Roll with the Punches,7,11,146,0,,7,11,213,0,\r\n",
      "WxELFxW,91650,7,12,197,2,Inspirational Presence:Insight,7,10,207,1,Number Crunch,7,11,245,1,Roll with the Punches,7,11,198,0,,7,10,183,0,\r\n"
     ]
    }
   ],
   "source": [
    "!head jtrp15.csv"
   ]
  },
  {
   "cell_type": "code",
   "execution_count": 110,
   "metadata": {},
   "outputs": [],
   "source": [
    "data = []\n",
    "split = []\n",
    "\n",
    "i = 1\n",
    "\n",
    "val = \"\"\n",
    "\n",
    "table = soup.tbody.find_all('tr')\n",
    "# cells = table[4].find_all('td')\n",
    "\n",
    "for row in table:\n",
    "    out_row = []\n",
    "    for cell in row.find_all('td'):\n",
    "        val = cell.text.strip()\n",
    "        if val:\n",
    "            if val.find(\"* G\") == 1:\n",
    "                for entity in val.split():\n",
    "                    out_row.append(entity)\n",
    "            else:\n",
    "                out_row.append(val)\n",
    "        else:\n",
    "            out_row.append(\",\")\n",
    "            out_row.append(\",\")\n",
    "            out_row.append(\",\")\n",
    "    data.append(out_row)"
   ]
  }
 ],
 "metadata": {
  "kernelspec": {
   "display_name": "Python 3",
   "language": "python",
   "name": "python3"
  },
  "language_info": {
   "codemirror_mode": {
    "name": "ipython",
    "version": 3
   },
   "file_extension": ".py",
   "mimetype": "text/x-python",
   "name": "python",
   "nbconvert_exporter": "python",
   "pygments_lexer": "ipython3",
   "version": "3.7.0"
  }
 },
 "nbformat": 4,
 "nbformat_minor": 2
}
