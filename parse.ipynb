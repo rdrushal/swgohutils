{
 "cells": [
  {
   "cell_type": "code",
   "execution_count": 1,
   "metadata": {},
   "outputs": [],
   "source": [
    "from bs4 import BeautifulSoup\n",
    "import csv"
   ]
  },
  {
   "cell_type": "code",
   "execution_count": 2,
   "metadata": {},
   "outputs": [],
   "source": [
    "file = open(\"/Users/rick/code/swgoh/SpectreCөmpanySquadTemplatesSWGOH.GG.htm\", \"r\")\n",
    "soup = BeautifulSoup(file, 'html.parser')\n",
    "\n",
    "outfile = \"jtr_p1.csv\"\n"
   ]
  },
  {
   "cell_type": "code",
   "execution_count": 5,
   "metadata": {},
   "outputs": [],
   "source": [
    "data = []\n",
    "split = []\n",
    "\n",
    "i = 1\n",
    "\n",
    "val = \"\"\n",
    "\n",
    "table = soup.tbody.find_all('tr')\n",
    "# cells = table[4].find_all('td')\n",
    "\n",
    "for row in table:\n",
    "    out_row = []\n",
    "    for cell in row.find_all('td'):\n",
    "        val = cell.text.strip()\n",
    "        if val:\n",
    "            if val.find(\"* G\") == 1:\n",
    "                for entity in val.split():\n",
    "                    out_row.append(entity)\n",
    "            else:\n",
    "                out_row.append(val)\n",
    "        else:\n",
    "            out_row.append(\",\")\n",
    "            out_row.append(\",\")\n",
    "            out_row.append(\",\")\n",
    "    data.append(out_row)"
   ]
  },
  {
   "cell_type": "code",
   "execution_count": 6,
   "metadata": {},
   "outputs": [],
   "source": [
    "with open(outfile, 'w') as the_file:\n",
    "    writer = csv.writer(the_file, lineterminator='\\n')\n",
    "    writer.writerows(data)"
   ]
  },
  {
   "cell_type": "code",
   "execution_count": null,
   "metadata": {},
   "outputs": [],
   "source": []
  }
 ],
 "metadata": {
  "kernelspec": {
   "display_name": "Python 3",
   "language": "python",
   "name": "python3"
  },
  "language_info": {
   "codemirror_mode": {
    "name": "ipython",
    "version": 3
   },
   "file_extension": ".py",
   "mimetype": "text/x-python",
   "name": "python",
   "nbconvert_exporter": "python",
   "pygments_lexer": "ipython3",
   "version": "3.7.0"
  }
 },
 "nbformat": 4,
 "nbformat_minor": 2
}
