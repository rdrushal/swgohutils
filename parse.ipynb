{
 "cells": [
  {
   "cell_type": "code",
   "execution_count": 1,
   "metadata": {},
   "outputs": [],
   "source": [
    "from bs4 import BeautifulSoup\n",
    "import re\n",
    "import csv"
   ]
  },
  {
   "cell_type": "code",
   "execution_count": 2,
   "metadata": {
    "scrolled": true
   },
   "outputs": [],
   "source": [
    "from selenium import webdriver\n",
    "# from selenium.webdriver.common.keys import Keys\n",
    "\n",
    "\n",
    "LoginURL=\"https://swgoh.gg/accounts/login/\"\n",
    "URL=\"https://swgoh.gg/g/40213/spectrecompany/squad-templates/42300/\"\n",
    "\n",
    "driver = webdriver.Safari()\n",
    "driver.get(LoginURL)\n",
    "\n",
    "assert \"SWGOH\" in driver.title\n",
    "\n",
    "username = driver.find_element_by_id(\"id_username\")\n",
    "username.clear()\n",
    "username.send_keys(\"Drushidious\")\n",
    "\n",
    "passwd = driver.find_element_by_id(\"id_password\")\n",
    "passwd.clear()\n",
    "passwd.send_keys(\"J2YkMvfhBhgiyXaeNPXWnvep\")\n",
    "passwd.submit()\n"
   ]
  },
  {
   "cell_type": "code",
   "execution_count": null,
   "metadata": {},
   "outputs": [],
   "source": [
    "driver.get(URL)\n",
    "html = driver.page_source"
   ]
  },
  {
   "cell_type": "code",
   "execution_count": null,
   "metadata": {
    "scrolled": true
   },
   "outputs": [],
   "source": [
    "# print(html)"
   ]
  },
  {
   "cell_type": "code",
   "execution_count": null,
   "metadata": {},
   "outputs": [],
   "source": [
    "# file = open(\"/Users/rick/code/swgoh/SpectreCөmpanySquadTemplatesSWGOH.GG.htm\", \"r\")\n",
    "# soup = BeautifulSoup(html, 'html.parser')\n",
    "\n",
    "soup = BeautifulSoup(html)\n",
    "outfile = \"jtr_p1.csv\"\n"
   ]
  },
  {
   "cell_type": "code",
   "execution_count": null,
   "metadata": {},
   "outputs": [],
   "source": [
    "# Extract Squad Character Names\n",
    "characters = [x[\"data-name\"] for x in soup.thead.find_all('th', class_=re.compile(r'text-center squad-character'))]\n",
    "print(characters)"
   ]
  },
  {
   "cell_type": "code",
   "execution_count": null,
   "metadata": {},
   "outputs": [],
   "source": [
    "# Construct header\n",
    "header = []\n",
    "header.append(\"Player\")\n",
    "header.append(\"Team Power\")\n",
    "for character in characters:\n",
    "    header.append(character + \" Star Level\")\n",
    "    header.append(character + \" Gear Level\")\n",
    "    header.append(character + \" Speed\")\n",
    "    header.append(character + \" Zeta Count\")\n",
    "    header.append(character + \" Zeta List\")                \n",
    "\n",
    "\n",
    "len(header)\n",
    "print(header)"
   ]
  },
  {
   "cell_type": "code",
   "execution_count": null,
   "metadata": {},
   "outputs": [],
   "source": [
    "data = []\n",
    "split = []\n",
    "val = \"\"\n",
    "\n",
    "data.append(header)\n",
    "\n",
    "table = soup.tbody.find_all('tr')\n",
    "print(len(table))\n",
    "for row in table:\n",
    "\n",
    "    out_row = []\n",
    "    for cell in row.find_all('td'):\n",
    "        \n",
    "        #GET Character Zetas\n",
    "        zetas_list = [x[\"title\"] for x in cell.find_all('img')]\n",
    "        zetas = ':'.join(zetas_list)\n",
    "\n",
    "        #Get character stats\n",
    "        val = cell.text.strip()\n",
    "\n",
    "        if val:\n",
    "            if val.find(\"* G\") == 1:\n",
    "                for entity in val.split():\n",
    "                    out_row.append(entity.strip('()*G'))\n",
    "                \n",
    "                # Append Zeta Count to character stats\n",
    "                out_row.append(len(zetas_list))\n",
    "\n",
    "                # Append Zeta name to character stats\n",
    "                out_row.append(zetas)\n",
    "                \n",
    "            else:\n",
    "                out_row.append(val)\n",
    "        else:\n",
    "            #Filler if player does not have toon\n",
    "            out_row.append('')\n",
    "            out_row.append('')\n",
    "            out_row.append('')\n",
    "            out_row.append('')\n",
    "            out_row.append('')        \n",
    "        \n",
    "    data.append(out_row)\n",
    "    \n"
   ]
  },
  {
   "cell_type": "code",
   "execution_count": null,
   "metadata": {},
   "outputs": [],
   "source": [
    "with open(outfile, 'w') as the_file:\n",
    "    writer = csv.writer(the_file, lineterminator='\\n')\n",
    "    writer.writerows(data)"
   ]
  },
  {
   "cell_type": "code",
   "execution_count": null,
   "metadata": {
    "scrolled": true
   },
   "outputs": [],
   "source": [
    "!cat jtr_p1.csv"
   ]
  },
  {
   "cell_type": "code",
   "execution_count": null,
   "metadata": {},
   "outputs": [],
   "source": [
    "!wc -l jtr_p1.csv"
   ]
  },
  {
   "cell_type": "code",
   "execution_count": null,
   "metadata": {},
   "outputs": [],
   "source": [
    "# data = []\n",
    "# split = []\n",
    "\n",
    "# i = 1\n",
    "\n",
    "# val = \"\"\n",
    "\n",
    "# table = soup.tbody.find_all('tr')\n",
    "# # cells = table[4].find_all('td')\n",
    "\n",
    "# for row in table:\n",
    "#     out_row = []\n",
    "#     for cell in row.find_all('td'):\n",
    "#         val = cell.text.strip()\n",
    "#         if val:\n",
    "#             if val.find(\"* G\") == 1:\n",
    "#                 for entity in val.split():\n",
    "#                     out_row.append(entity)\n",
    "#             else:\n",
    "#                 out_row.append(val)\n",
    "#         else:\n",
    "#             out_row.append(\",\")\n",
    "#             out_row.append(\",\")\n",
    "#             out_row.append(\",\")\n",
    "#     data.append(out_row)"
   ]
  },
  {
   "cell_type": "code",
   "execution_count": null,
   "metadata": {},
   "outputs": [],
   "source": [
    "# data = []\n",
    "# split = []\n",
    "# val = \"\"\n",
    "\n",
    "# data.append(header)\n",
    "\n",
    "# table = soup.tbody.find_all('tr')\n",
    "\n",
    "# for row in table:\n",
    "#     out_row = []\n",
    "#     for cell in row.find_all('td'):\n",
    "        \n",
    "#         #GET Character Zetas\n",
    "#         zetas_list = [x[\"title\"] for x in cell.find_all('img')]\n",
    "#         zetas = ':'.join(zetas_list)\n",
    "\n",
    "#         #Get character stats\n",
    "#         val = cell.text.strip()\n",
    "\n",
    "#         if val:\n",
    "#             if val.find(\"* G\") == 1:\n",
    "#                 for entity in val.split():\n",
    "#                     out_row.append(entity.strip('()*G'))\n",
    "                \n",
    "#                 # Append Zeta Count to character stats\n",
    "#                 out_row.append(len(zetas_list))\n",
    "\n",
    "#                 # Append Zeta name to character stats\n",
    "#                 out_row.append(zetas)\n",
    "                \n",
    "#             else:\n",
    "#                 out_row.append(val)\n",
    "#         else:\n",
    "#             #Filler if player does not have toon\n",
    "#             out_row.append('')\n",
    "#             out_row.append('')\n",
    "#             out_row.append('')\n",
    "#             out_row.append('')\n",
    "#             out_row.append('')        \n",
    "        \n",
    "#     data.append(out_row)\n",
    "\n",
    "# with open(outfile, 'w') as the_file:\n",
    "#     writer = csv.writer(the_file, lineterminator='\\n')\n",
    "#     writer.writerows(data)"
   ]
  }
 ],
 "metadata": {
  "kernelspec": {
   "display_name": "Python 3",
   "language": "python",
   "name": "python3"
  },
  "language_info": {
   "codemirror_mode": {
    "name": "ipython",
    "version": 3
   },
   "file_extension": ".py",
   "mimetype": "text/x-python",
   "name": "python",
   "nbconvert_exporter": "python",
   "pygments_lexer": "ipython3",
   "version": "3.7.0"
  }
 },
 "nbformat": 4,
 "nbformat_minor": 2
}
